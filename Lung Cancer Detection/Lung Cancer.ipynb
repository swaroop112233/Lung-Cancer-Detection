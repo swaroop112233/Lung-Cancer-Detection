{
  "nbformat": 4,
  "nbformat_minor": 0,
  "metadata": {
    "colab": {
      "provenance": [],
      "gpuType": "T4"
    },
    "kernelspec": {
      "name": "python3",
      "display_name": "Python 3"
    },
    "language_info": {
      "name": "python"
    },
    "accelerator": "GPU"
  },
  "cells": [
    {
      "cell_type": "code",
      "execution_count": null,
      "metadata": {
        "id": "rgARpB2F0XrC"
      },
      "outputs": [],
      "source": [
        "import numpy as np\n",
        "import pandas as pd\n",
        "import tensorflow as tf\n",
        "from tensorflow.keras.layers import Conv2D,Dense,MaxPooling2D,Flatten,BatchNormalization,Dropout\n",
        "from tensorflow.keras.models import Sequential\n",
        "from tensorflow.keras.applications import VGG16\n",
        "from tensorflow.keras.preprocessing.image import ImageDataGenerator\n",
        "from tensorflow.keras.applications.resnet import preprocess_input\n",
        "import matplotlib.pyplot as plt\n",
        "import cv2 as cv\n",
        "from sklearn.utils import shuffle\n",
        "from sklearn.metrics import confusion_matrix,classification_report\n",
        "from keras.utils import to_categorical\n",
        "import os"
      ]
    },
    {
      "cell_type": "code",
      "source": [
        "from google.colab import drive\n",
        "drive.mount('/content/gdrive')"
      ],
      "metadata": {
        "colab": {
          "base_uri": "https://localhost:8080/"
        },
        "id": "AbUHvf8t1odm",
        "outputId": "d0e4e705-1b7d-4d82-eef0-cf0fac62bf9f"
      },
      "execution_count": null,
      "outputs": [
        {
          "output_type": "stream",
          "name": "stdout",
          "text": [
            "Mounted at /content/gdrive\n"
          ]
        }
      ]
    },
    {
      "cell_type": "code",
      "source": [
        "!unzip -qq gdrive/My\\ Drive/cancer/dataset.zip"
      ],
      "metadata": {
        "id": "HB-azQDa7GTI"
      },
      "execution_count": null,
      "outputs": []
    },
    {
      "cell_type": "code",
      "source": [
        "train_path_str = '/content/Data/train'\n",
        "val_path_str = '/content/Data/valid'\n",
        "test_path_str = '/content/Data/test'"
      ],
      "metadata": {
        "id": "g53cPx3L0flE"
      },
      "execution_count": null,
      "outputs": []
    },
    {
      "cell_type": "code",
      "source": [
        "test_classes = os.listdir(test_path_str)"
      ],
      "metadata": {
        "id": "YnjiAivC0iHo"
      },
      "execution_count": null,
      "outputs": []
    },
    {
      "cell_type": "code",
      "source": [
        "input_shape = (224,224,3)\n",
        "num_classes = 4\n",
        "\n",
        "trainGenertor = ImageDataGenerator(\n",
        "    preprocessing_function = preprocess_input,\n",
        "    rotation_range = 10,\n",
        "    width_shift_range = 0.3,\n",
        "    height_shift_range = 0.3,\n",
        "    shear_range = 0.2,\n",
        "    zoom_range = 0.1,\n",
        "    horizontal_flip = True,\n",
        "    vertical_flip = True,\n",
        "    dtype = 'float32'\n",
        ")\n",
        "valGenertor = ImageDataGenerator(\n",
        "    preprocessing_function = preprocess_input,\n",
        "    dtype = 'float32'\n",
        ")\n",
        "\n",
        "testGenertor = ImageDataGenerator(\n",
        "    preprocessing_function = preprocess_input,\n",
        "    dtype = 'float32'\n",
        ")"
      ],
      "metadata": {
        "id": "MJhtqUBc0R7Z"
      },
      "execution_count": null,
      "outputs": []
    },
    {
      "cell_type": "code",
      "source": [
        "train_data = trainGenertor.flow_from_directory(\n",
        "    train_path_str,\n",
        "    target_size = (224,224),\n",
        "    batch_size = 16,\n",
        "    class_mode = 'categorical'\n",
        ")\n",
        "\n",
        "val_data = valGenertor.flow_from_directory(\n",
        "    val_path_str,\n",
        "    target_size = (224,224),\n",
        "    batch_size = 16,\n",
        "    class_mode = 'categorical'\n",
        ")\n",
        "\n",
        "test_data = testGenertor.flow_from_directory(\n",
        "    test_path_str,\n",
        "    target_size = (224,224),\n",
        "    batch_size = 16,\n",
        "    class_mode = 'categorical',\n",
        "    shuffle = False\n",
        ")"
      ],
      "metadata": {
        "colab": {
          "base_uri": "https://localhost:8080/"
        },
        "id": "rIU9JA_l0VEC",
        "outputId": "f311296c-bb8e-4aa2-80bb-6bd1eeb36799"
      },
      "execution_count": null,
      "outputs": [
        {
          "output_type": "stream",
          "name": "stdout",
          "text": [
            "Found 613 images belonging to 4 classes.\n",
            "Found 72 images belonging to 4 classes.\n",
            "Found 315 images belonging to 4 classes.\n"
          ]
        }
      ]
    },
    {
      "cell_type": "code",
      "source": [
        "VGG16_model = VGG16(\n",
        "    include_top = False,\n",
        "    weights=\"imagenet\",\n",
        "    input_shape = input_shape\n",
        ")\n",
        "for layer in VGG16_model.layers :\n",
        "  layer.trainable = False"
      ],
      "metadata": {
        "colab": {
          "base_uri": "https://localhost:8080/"
        },
        "id": "XpCjZPdJ0k6K",
        "outputId": "3e8e76f5-ded9-42cd-f34c-c9a4236a3da0"
      },
      "execution_count": null,
      "outputs": [
        {
          "output_type": "stream",
          "name": "stdout",
          "text": [
            "Downloading data from https://storage.googleapis.com/tensorflow/keras-applications/vgg16/vgg16_weights_tf_dim_ordering_tf_kernels_notop.h5\n",
            "58889256/58889256 [==============================] - 0s 0us/step\n"
          ]
        }
      ]
    },
    {
      "cell_type": "code",
      "source": [
        "from keras.src.metrics.confusion_metrics import activations\n",
        "model = Sequential()\n",
        "model.add(VGG16_model)\n",
        "model.add(BatchNormalization())\n",
        "model.add(MaxPooling2D((2,2)))\n",
        "model.add(Flatten())\n",
        "model.add(Dense(1024,activation = 'relu'))\n",
        "model.add(Dropout(0.3))\n",
        "model.add(Dense(512,activation = 'relu'))\n",
        "model.add(Dropout(0.3))\n",
        "model.add(Dense(256,activation = 'relu'))\n",
        "model.add(Dense(128,activation = 'relu'))\n",
        "model.add(Dense(num_classes,activation = 'softmax'))\n",
        "model.summary()"
      ],
      "metadata": {
        "colab": {
          "base_uri": "https://localhost:8080/"
        },
        "id": "w68R4Bi20wsi",
        "outputId": "4ae4932f-3c95-41a4-86c0-124345830970"
      },
      "execution_count": null,
      "outputs": [
        {
          "output_type": "stream",
          "name": "stdout",
          "text": [
            "Model: \"sequential\"\n",
            "_________________________________________________________________\n",
            " Layer (type)                Output Shape              Param #   \n",
            "=================================================================\n",
            " vgg16 (Functional)          (None, 7, 7, 512)         14714688  \n",
            "                                                                 \n",
            " batch_normalization (Batch  (None, 7, 7, 512)         2048      \n",
            " Normalization)                                                  \n",
            "                                                                 \n",
            " max_pooling2d (MaxPooling2  (None, 3, 3, 512)         0         \n",
            " D)                                                              \n",
            "                                                                 \n",
            " flatten (Flatten)           (None, 4608)              0         \n",
            "                                                                 \n",
            " dense (Dense)               (None, 1024)              4719616   \n",
            "                                                                 \n",
            " dropout (Dropout)           (None, 1024)              0         \n",
            "                                                                 \n",
            " dense_1 (Dense)             (None, 512)               524800    \n",
            "                                                                 \n",
            " dropout_1 (Dropout)         (None, 512)               0         \n",
            "                                                                 \n",
            " dense_2 (Dense)             (None, 256)               131328    \n",
            "                                                                 \n",
            " dense_3 (Dense)             (None, 128)               32896     \n",
            "                                                                 \n",
            " dense_4 (Dense)             (None, 4)                 516       \n",
            "                                                                 \n",
            "=================================================================\n",
            "Total params: 20125892 (76.77 MB)\n",
            "Trainable params: 5410180 (20.64 MB)\n",
            "Non-trainable params: 14715712 (56.14 MB)\n",
            "_________________________________________________________________\n"
          ]
        }
      ]
    },
    {
      "cell_type": "code",
      "source": [
        "model.compile(\n",
        "    optimizer='adam',loss='categorical_crossentropy',metrics=['accuracy']\n",
        ")\n",
        "callbacks = [\n",
        "    tf.keras.callbacks.EarlyStopping(patience=5),\n",
        "    tf.keras.callbacks.ModelCheckpoint('model.h5',save_best_only=True),\n",
        "    tf.keras.callbacks.TensorBoard(log_dir='logs')\n",
        "]"
      ],
      "metadata": {
        "id": "SylZZlC004ZA"
      },
      "execution_count": null,
      "outputs": []
    },
    {
      "cell_type": "code",
      "source": [
        "results = model.fit(train_data,validation_data=val_data,epochs=100,verbose = 1)"
      ],
      "metadata": {
        "colab": {
          "base_uri": "https://localhost:8080/"
        },
        "id": "bzFsMeco045C",
        "outputId": "8a111a57-cca1-4b90-bd77-a9ec22085544"
      },
      "execution_count": null,
      "outputs": [
        {
          "output_type": "stream",
          "name": "stdout",
          "text": [
            "Epoch 1/100\n",
            "39/39 [==============================] - 29s 333ms/step - loss: 1.6977 - accuracy: 0.3997 - val_loss: 1.5653 - val_accuracy: 0.4583\n",
            "Epoch 2/100\n",
            "39/39 [==============================] - 12s 304ms/step - loss: 1.1663 - accuracy: 0.4943 - val_loss: 1.2341 - val_accuracy: 0.4444\n",
            "Epoch 3/100\n",
            "39/39 [==============================] - 11s 279ms/step - loss: 1.0661 - accuracy: 0.5155 - val_loss: 1.0697 - val_accuracy: 0.5000\n",
            "Epoch 4/100\n",
            "39/39 [==============================] - 11s 280ms/step - loss: 0.9628 - accuracy: 0.5367 - val_loss: 1.1024 - val_accuracy: 0.4861\n",
            "Epoch 5/100\n",
            "39/39 [==============================] - 12s 304ms/step - loss: 0.9623 - accuracy: 0.5710 - val_loss: 0.8778 - val_accuracy: 0.5556\n",
            "Epoch 6/100\n",
            "39/39 [==============================] - 11s 289ms/step - loss: 0.8312 - accuracy: 0.6215 - val_loss: 0.9801 - val_accuracy: 0.5417\n",
            "Epoch 7/100\n",
            "39/39 [==============================] - 11s 278ms/step - loss: 0.8498 - accuracy: 0.6395 - val_loss: 1.0710 - val_accuracy: 0.4861\n",
            "Epoch 8/100\n",
            "39/39 [==============================] - 12s 304ms/step - loss: 0.8472 - accuracy: 0.6052 - val_loss: 0.7807 - val_accuracy: 0.5972\n",
            "Epoch 9/100\n",
            "39/39 [==============================] - 12s 305ms/step - loss: 0.8033 - accuracy: 0.6378 - val_loss: 0.7073 - val_accuracy: 0.6944\n",
            "Epoch 10/100\n",
            "39/39 [==============================] - 12s 296ms/step - loss: 0.7688 - accuracy: 0.6819 - val_loss: 0.6906 - val_accuracy: 0.6806\n",
            "Epoch 11/100\n",
            "39/39 [==============================] - 12s 303ms/step - loss: 0.6605 - accuracy: 0.7243 - val_loss: 0.6672 - val_accuracy: 0.7639\n",
            "Epoch 12/100\n",
            "39/39 [==============================] - 11s 280ms/step - loss: 0.6701 - accuracy: 0.7210 - val_loss: 0.8039 - val_accuracy: 0.7222\n",
            "Epoch 13/100\n",
            "39/39 [==============================] - 12s 305ms/step - loss: 0.6789 - accuracy: 0.7210 - val_loss: 0.7974 - val_accuracy: 0.6111\n",
            "Epoch 14/100\n",
            "39/39 [==============================] - 12s 301ms/step - loss: 0.6244 - accuracy: 0.7537 - val_loss: 0.8996 - val_accuracy: 0.6667\n",
            "Epoch 15/100\n",
            "39/39 [==============================] - 11s 286ms/step - loss: 0.5767 - accuracy: 0.7651 - val_loss: 0.8625 - val_accuracy: 0.6667\n",
            "Epoch 16/100\n",
            "39/39 [==============================] - 12s 304ms/step - loss: 0.5538 - accuracy: 0.7602 - val_loss: 1.0645 - val_accuracy: 0.5417\n",
            "Epoch 17/100\n",
            "39/39 [==============================] - 12s 302ms/step - loss: 0.5896 - accuracy: 0.7635 - val_loss: 0.9744 - val_accuracy: 0.5278\n",
            "Epoch 18/100\n",
            "39/39 [==============================] - 12s 311ms/step - loss: 0.5376 - accuracy: 0.7863 - val_loss: 0.8161 - val_accuracy: 0.6667\n",
            "Epoch 19/100\n",
            "39/39 [==============================] - 12s 300ms/step - loss: 0.5437 - accuracy: 0.7847 - val_loss: 0.8965 - val_accuracy: 0.6944\n",
            "Epoch 20/100\n",
            "39/39 [==============================] - 11s 288ms/step - loss: 0.5194 - accuracy: 0.7781 - val_loss: 0.6049 - val_accuracy: 0.7917\n",
            "Epoch 21/100\n",
            "39/39 [==============================] - 12s 302ms/step - loss: 0.5272 - accuracy: 0.7651 - val_loss: 0.8680 - val_accuracy: 0.6944\n",
            "Epoch 22/100\n",
            "39/39 [==============================] - 12s 301ms/step - loss: 0.5791 - accuracy: 0.7765 - val_loss: 0.6462 - val_accuracy: 0.7778\n",
            "Epoch 23/100\n",
            "39/39 [==============================] - 12s 300ms/step - loss: 0.5310 - accuracy: 0.7896 - val_loss: 0.6618 - val_accuracy: 0.7639\n",
            "Epoch 24/100\n",
            "39/39 [==============================] - 11s 283ms/step - loss: 0.4780 - accuracy: 0.7945 - val_loss: 0.8297 - val_accuracy: 0.7361\n",
            "Epoch 25/100\n",
            "39/39 [==============================] - 11s 270ms/step - loss: 0.4633 - accuracy: 0.8075 - val_loss: 0.6975 - val_accuracy: 0.7361\n",
            "Epoch 26/100\n",
            "39/39 [==============================] - 12s 304ms/step - loss: 0.4563 - accuracy: 0.8140 - val_loss: 0.5071 - val_accuracy: 0.8194\n",
            "Epoch 27/100\n",
            "39/39 [==============================] - 12s 302ms/step - loss: 0.4784 - accuracy: 0.8108 - val_loss: 0.5935 - val_accuracy: 0.7778\n",
            "Epoch 28/100\n",
            "39/39 [==============================] - 12s 299ms/step - loss: 0.4076 - accuracy: 0.8352 - val_loss: 0.9747 - val_accuracy: 0.6389\n",
            "Epoch 29/100\n",
            "39/39 [==============================] - 12s 304ms/step - loss: 0.4800 - accuracy: 0.7993 - val_loss: 0.6297 - val_accuracy: 0.7778\n",
            "Epoch 30/100\n",
            "39/39 [==============================] - 11s 269ms/step - loss: 0.4574 - accuracy: 0.8352 - val_loss: 0.7631 - val_accuracy: 0.6944\n",
            "Epoch 31/100\n",
            "39/39 [==============================] - 12s 302ms/step - loss: 0.4326 - accuracy: 0.8303 - val_loss: 0.5903 - val_accuracy: 0.7917\n",
            "Epoch 32/100\n",
            "39/39 [==============================] - 12s 302ms/step - loss: 0.3856 - accuracy: 0.8385 - val_loss: 1.0127 - val_accuracy: 0.6528\n",
            "Epoch 33/100\n",
            "39/39 [==============================] - 12s 301ms/step - loss: 0.4350 - accuracy: 0.8206 - val_loss: 0.6605 - val_accuracy: 0.7361\n",
            "Epoch 34/100\n",
            "39/39 [==============================] - 11s 289ms/step - loss: 0.3496 - accuracy: 0.8711 - val_loss: 0.7584 - val_accuracy: 0.7222\n",
            "Epoch 35/100\n",
            "39/39 [==============================] - 12s 305ms/step - loss: 0.3944 - accuracy: 0.8401 - val_loss: 0.7195 - val_accuracy: 0.7500\n",
            "Epoch 36/100\n",
            "39/39 [==============================] - 12s 303ms/step - loss: 0.3610 - accuracy: 0.8662 - val_loss: 0.7388 - val_accuracy: 0.7639\n",
            "Epoch 37/100\n",
            "39/39 [==============================] - 12s 301ms/step - loss: 0.3561 - accuracy: 0.8597 - val_loss: 0.6313 - val_accuracy: 0.8056\n",
            "Epoch 38/100\n",
            "39/39 [==============================] - 11s 282ms/step - loss: 0.3822 - accuracy: 0.8630 - val_loss: 0.6099 - val_accuracy: 0.8056\n",
            "Epoch 39/100\n",
            "39/39 [==============================] - 12s 309ms/step - loss: 0.3122 - accuracy: 0.8907 - val_loss: 0.9265 - val_accuracy: 0.7500\n",
            "Epoch 40/100\n",
            "39/39 [==============================] - 12s 302ms/step - loss: 0.3386 - accuracy: 0.8646 - val_loss: 0.7385 - val_accuracy: 0.7778\n",
            "Epoch 41/100\n",
            "39/39 [==============================] - 12s 300ms/step - loss: 0.3796 - accuracy: 0.8581 - val_loss: 0.8380 - val_accuracy: 0.7361\n",
            "Epoch 42/100\n",
            "39/39 [==============================] - 12s 302ms/step - loss: 0.3712 - accuracy: 0.8613 - val_loss: 0.6648 - val_accuracy: 0.7917\n",
            "Epoch 43/100\n",
            "39/39 [==============================] - 10s 265ms/step - loss: 0.3399 - accuracy: 0.8662 - val_loss: 0.8746 - val_accuracy: 0.7500\n",
            "Epoch 44/100\n",
            "39/39 [==============================] - 12s 299ms/step - loss: 0.3428 - accuracy: 0.8711 - val_loss: 0.7177 - val_accuracy: 0.7639\n",
            "Epoch 45/100\n",
            "39/39 [==============================] - 12s 304ms/step - loss: 0.3150 - accuracy: 0.8891 - val_loss: 0.8506 - val_accuracy: 0.7361\n",
            "Epoch 46/100\n",
            "39/39 [==============================] - 11s 292ms/step - loss: 0.3338 - accuracy: 0.8842 - val_loss: 0.9091 - val_accuracy: 0.7361\n",
            "Epoch 47/100\n",
            "39/39 [==============================] - 11s 295ms/step - loss: 0.3238 - accuracy: 0.8711 - val_loss: 0.6021 - val_accuracy: 0.8194\n",
            "Epoch 48/100\n",
            "39/39 [==============================] - 10s 262ms/step - loss: 0.3274 - accuracy: 0.8891 - val_loss: 0.5570 - val_accuracy: 0.8333\n",
            "Epoch 49/100\n",
            "39/39 [==============================] - 12s 295ms/step - loss: 0.2935 - accuracy: 0.8858 - val_loss: 0.7006 - val_accuracy: 0.7500\n",
            "Epoch 50/100\n",
            "39/39 [==============================] - 11s 290ms/step - loss: 0.3059 - accuracy: 0.8891 - val_loss: 0.6094 - val_accuracy: 0.7778\n",
            "Epoch 51/100\n",
            "39/39 [==============================] - 11s 296ms/step - loss: 0.3236 - accuracy: 0.8825 - val_loss: 0.6911 - val_accuracy: 0.7639\n",
            "Epoch 52/100\n",
            "39/39 [==============================] - 11s 288ms/step - loss: 0.2633 - accuracy: 0.9054 - val_loss: 0.7156 - val_accuracy: 0.7639\n",
            "Epoch 53/100\n",
            "39/39 [==============================] - 11s 272ms/step - loss: 0.2874 - accuracy: 0.8972 - val_loss: 0.5811 - val_accuracy: 0.8194\n",
            "Epoch 54/100\n",
            "39/39 [==============================] - 11s 289ms/step - loss: 0.3368 - accuracy: 0.8858 - val_loss: 0.7014 - val_accuracy: 0.7917\n",
            "Epoch 55/100\n",
            "39/39 [==============================] - 11s 292ms/step - loss: 0.2925 - accuracy: 0.8825 - val_loss: 0.8378 - val_accuracy: 0.8194\n",
            "Epoch 56/100\n",
            "39/39 [==============================] - 11s 294ms/step - loss: 0.2771 - accuracy: 0.8972 - val_loss: 1.1765 - val_accuracy: 0.6944\n",
            "Epoch 57/100\n",
            "39/39 [==============================] - 11s 292ms/step - loss: 0.3079 - accuracy: 0.8989 - val_loss: 0.9403 - val_accuracy: 0.7361\n",
            "Epoch 58/100\n",
            "39/39 [==============================] - 12s 296ms/step - loss: 0.2694 - accuracy: 0.9038 - val_loss: 1.1320 - val_accuracy: 0.7083\n",
            "Epoch 59/100\n",
            "39/39 [==============================] - 10s 263ms/step - loss: 0.2857 - accuracy: 0.8972 - val_loss: 1.0919 - val_accuracy: 0.7083\n",
            "Epoch 60/100\n",
            "39/39 [==============================] - 11s 294ms/step - loss: 0.2000 - accuracy: 0.9299 - val_loss: 1.1062 - val_accuracy: 0.7361\n",
            "Epoch 61/100\n",
            "39/39 [==============================] - 11s 294ms/step - loss: 0.2805 - accuracy: 0.8891 - val_loss: 0.9329 - val_accuracy: 0.7500\n",
            "Epoch 62/100\n",
            "39/39 [==============================] - 11s 290ms/step - loss: 0.2833 - accuracy: 0.9168 - val_loss: 1.2656 - val_accuracy: 0.7361\n",
            "Epoch 63/100\n",
            "39/39 [==============================] - 12s 305ms/step - loss: 0.2333 - accuracy: 0.9152 - val_loss: 1.1175 - val_accuracy: 0.7222\n",
            "Epoch 64/100\n",
            "39/39 [==============================] - 11s 292ms/step - loss: 0.2771 - accuracy: 0.8972 - val_loss: 0.8078 - val_accuracy: 0.8056\n",
            "Epoch 65/100\n",
            "39/39 [==============================] - 12s 303ms/step - loss: 0.2939 - accuracy: 0.8825 - val_loss: 0.8486 - val_accuracy: 0.7778\n",
            "Epoch 66/100\n",
            "39/39 [==============================] - 12s 298ms/step - loss: 0.2675 - accuracy: 0.8956 - val_loss: 0.9102 - val_accuracy: 0.7222\n",
            "Epoch 67/100\n",
            "39/39 [==============================] - 11s 294ms/step - loss: 0.2796 - accuracy: 0.9005 - val_loss: 0.9450 - val_accuracy: 0.7639\n",
            "Epoch 68/100\n",
            "39/39 [==============================] - 11s 286ms/step - loss: 0.2347 - accuracy: 0.9168 - val_loss: 0.9515 - val_accuracy: 0.7917\n",
            "Epoch 69/100\n",
            "39/39 [==============================] - 12s 297ms/step - loss: 0.2511 - accuracy: 0.9135 - val_loss: 0.7128 - val_accuracy: 0.8194\n",
            "Epoch 70/100\n",
            "39/39 [==============================] - 11s 291ms/step - loss: 0.2688 - accuracy: 0.9152 - val_loss: 0.8169 - val_accuracy: 0.8194\n",
            "Epoch 71/100\n",
            "39/39 [==============================] - 11s 290ms/step - loss: 0.2802 - accuracy: 0.8874 - val_loss: 0.8606 - val_accuracy: 0.7361\n",
            "Epoch 72/100\n",
            "39/39 [==============================] - 11s 290ms/step - loss: 0.3297 - accuracy: 0.8956 - val_loss: 0.7859 - val_accuracy: 0.8056\n",
            "Epoch 73/100\n",
            "39/39 [==============================] - 11s 291ms/step - loss: 0.2901 - accuracy: 0.8956 - val_loss: 0.6194 - val_accuracy: 0.8194\n",
            "Epoch 74/100\n",
            "39/39 [==============================] - 11s 282ms/step - loss: 0.1685 - accuracy: 0.9429 - val_loss: 0.8059 - val_accuracy: 0.8194\n",
            "Epoch 75/100\n",
            "39/39 [==============================] - 11s 278ms/step - loss: 0.2047 - accuracy: 0.9217 - val_loss: 0.7557 - val_accuracy: 0.8194\n",
            "Epoch 76/100\n",
            "39/39 [==============================] - 11s 294ms/step - loss: 0.2036 - accuracy: 0.9250 - val_loss: 0.8139 - val_accuracy: 0.8194\n",
            "Epoch 77/100\n",
            "39/39 [==============================] - 12s 299ms/step - loss: 0.3018 - accuracy: 0.8891 - val_loss: 0.8396 - val_accuracy: 0.7500\n",
            "Epoch 78/100\n",
            "39/39 [==============================] - 11s 292ms/step - loss: 0.2407 - accuracy: 0.9119 - val_loss: 0.9713 - val_accuracy: 0.8194\n",
            "Epoch 79/100\n",
            "39/39 [==============================] - 11s 292ms/step - loss: 0.2260 - accuracy: 0.9201 - val_loss: 0.8013 - val_accuracy: 0.8333\n",
            "Epoch 80/100\n",
            "39/39 [==============================] - 12s 301ms/step - loss: 0.2049 - accuracy: 0.9299 - val_loss: 0.5968 - val_accuracy: 0.8472\n",
            "Epoch 81/100\n",
            "39/39 [==============================] - 11s 290ms/step - loss: 0.2495 - accuracy: 0.9135 - val_loss: 0.6301 - val_accuracy: 0.8611\n",
            "Epoch 82/100\n",
            "39/39 [==============================] - 11s 269ms/step - loss: 0.2145 - accuracy: 0.9266 - val_loss: 0.7809 - val_accuracy: 0.8194\n",
            "Epoch 83/100\n",
            "39/39 [==============================] - 12s 297ms/step - loss: 0.2380 - accuracy: 0.9184 - val_loss: 0.6443 - val_accuracy: 0.8472\n",
            "Epoch 84/100\n",
            "39/39 [==============================] - 12s 298ms/step - loss: 0.2492 - accuracy: 0.9119 - val_loss: 0.8146 - val_accuracy: 0.8194\n",
            "Epoch 85/100\n",
            "39/39 [==============================] - 11s 292ms/step - loss: 0.2003 - accuracy: 0.9299 - val_loss: 0.8481 - val_accuracy: 0.7917\n",
            "Epoch 86/100\n",
            "39/39 [==============================] - 11s 294ms/step - loss: 0.1820 - accuracy: 0.9217 - val_loss: 0.6639 - val_accuracy: 0.8472\n",
            "Epoch 87/100\n",
            "39/39 [==============================] - 11s 292ms/step - loss: 0.1969 - accuracy: 0.9282 - val_loss: 0.7163 - val_accuracy: 0.8472\n",
            "Epoch 88/100\n",
            "39/39 [==============================] - 12s 298ms/step - loss: 0.2259 - accuracy: 0.9135 - val_loss: 0.5545 - val_accuracy: 0.8611\n",
            "Epoch 89/100\n",
            "39/39 [==============================] - 12s 295ms/step - loss: 0.1468 - accuracy: 0.9494 - val_loss: 0.7787 - val_accuracy: 0.8472\n",
            "Epoch 90/100\n",
            "39/39 [==============================] - 11s 290ms/step - loss: 0.2372 - accuracy: 0.9250 - val_loss: 0.7313 - val_accuracy: 0.8194\n",
            "Epoch 91/100\n",
            "39/39 [==============================] - 11s 292ms/step - loss: 0.1938 - accuracy: 0.9315 - val_loss: 0.5999 - val_accuracy: 0.8611\n",
            "Epoch 92/100\n",
            "39/39 [==============================] - 11s 284ms/step - loss: 0.1760 - accuracy: 0.9396 - val_loss: 0.7663 - val_accuracy: 0.8333\n",
            "Epoch 93/100\n",
            "39/39 [==============================] - 12s 296ms/step - loss: 0.1892 - accuracy: 0.9347 - val_loss: 0.7353 - val_accuracy: 0.8056\n",
            "Epoch 94/100\n",
            "39/39 [==============================] - 11s 293ms/step - loss: 0.2305 - accuracy: 0.9184 - val_loss: 0.7399 - val_accuracy: 0.8194\n",
            "Epoch 95/100\n",
            "39/39 [==============================] - 11s 292ms/step - loss: 0.1535 - accuracy: 0.9478 - val_loss: 0.8664 - val_accuracy: 0.8333\n",
            "Epoch 96/100\n",
            "39/39 [==============================] - 12s 305ms/step - loss: 0.1682 - accuracy: 0.9299 - val_loss: 0.7967 - val_accuracy: 0.8333\n",
            "Epoch 97/100\n",
            "39/39 [==============================] - 11s 292ms/step - loss: 0.1977 - accuracy: 0.9299 - val_loss: 0.7624 - val_accuracy: 0.8194\n",
            "Epoch 98/100\n",
            "39/39 [==============================] - 10s 263ms/step - loss: 0.2249 - accuracy: 0.9266 - val_loss: 0.6813 - val_accuracy: 0.8472\n",
            "Epoch 99/100\n",
            "39/39 [==============================] - 11s 291ms/step - loss: 0.1928 - accuracy: 0.9364 - val_loss: 0.6943 - val_accuracy: 0.8611\n",
            "Epoch 100/100\n",
            "39/39 [==============================] - 11s 293ms/step - loss: 0.1501 - accuracy: 0.9462 - val_loss: 0.8989 - val_accuracy: 0.8611\n"
          ]
        }
      ]
    },
    {
      "cell_type": "code",
      "source": [
        "import seaborn as sns\n",
        "predictions_prob = model.predict(test_data)\n",
        "predictions = np.argmax(predictions_prob , axis = 1)\n",
        "true_label = test_data.classes\n",
        "report = classification_report(true_label,predictions)\n",
        "print(report)"
      ],
      "metadata": {
        "colab": {
          "base_uri": "https://localhost:8080/"
        },
        "id": "1U1HuVl309fO",
        "outputId": "819af408-0128-42e9-ebfd-f3c3755897db"
      },
      "execution_count": null,
      "outputs": [
        {
          "output_type": "stream",
          "name": "stdout",
          "text": [
            "20/20 [==============================] - 4s 213ms/step\n",
            "              precision    recall  f1-score   support\n",
            "\n",
            "           0       0.86      0.92      0.89       120\n",
            "           1       0.76      0.92      0.83        51\n",
            "           2       1.00      0.98      0.99        54\n",
            "           3       0.94      0.76      0.84        90\n",
            "\n",
            "    accuracy                           0.88       315\n",
            "   macro avg       0.89      0.89      0.89       315\n",
            "weighted avg       0.89      0.88      0.88       315\n",
            "\n"
          ]
        }
      ]
    },
    {
      "cell_type": "code",
      "source": [
        "conf_mat = confusion_matrix(true_label,predictions)\n",
        "sns.heatmap(conf_mat ,fmt='g',annot = True , cmap='Blues' , xticklabels=test_classes , yticklabels = test_classes,)\n",
        "plt.xlabel('Predictions')\n",
        "plt.ylabel('True label')\n",
        "plt.title('Confusion Matrix')\n",
        "plt.xticks(rotation = 45)\n",
        "plt.show()"
      ],
      "metadata": {
        "colab": {
          "base_uri": "https://localhost:8080/",
          "height": 592
        },
        "id": "TSDbFkTI7Spp",
        "outputId": "a51032eb-3c42-4618-cb01-ca4e976a1488"
      },
      "execution_count": null,
      "outputs": [
        {
          "output_type": "display_data",
          "data": {
            "text/plain": [
              "<Figure size 640x480 with 2 Axes>"
            ],
            "image/png": "[encoded data removed]"
          },
          "metadata": {}
        }
      ]
    }
  ]
}